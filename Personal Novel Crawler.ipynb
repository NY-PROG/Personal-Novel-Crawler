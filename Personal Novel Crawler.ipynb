{
 "cells": [
  {
   "cell_type": "code",
   "execution_count": null,
   "metadata": {},
   "outputs": [],
   "source": [
    "from bs4 import BeautifulSoup\n",
    "import requests\n",
    "import os\n",
    "from urllib.parse import urljoin\n",
    "\n",
    "def crawl_novel(url, output_file):\n",
    "    with open(output_file, 'a', encoding='utf-8') as file:\n",
    "        while url:\n",
    "            \n",
    "            response = requests.get(url)\n",
    "            soup = BeautifulSoup(response.text, 'html.parser')\n",
    "            # Find titles\n",
    "            chapter_title = soup.find('span', class_='title').text.strip()\n",
    "            # Find chapter content\n",
    "            chapter_content_elem = soup.find('div', class_='Readarea ReadAjax_content')\n",
    "            if chapter_content_elem:\n",
    "                chapter_content = chapter_content_elem.get_text().strip()\n",
    "                # Write chapter titles and content to the file\n",
    "                file.write(f\"{chapter_title}\\n\\n{chapter_content}\\n\\n\")\n",
    "            else:\n",
    "                print(\"Cannot find any chapter content)\n",
    "                break\n",
    "            # Find next chapter\n",
    "            next_chapter = soup.find('a', class_='Readpage_down js_page_down')\n",
    "            if next_chapter:\n",
    "                next_chapter_url = urljoin('https://xxxxxxx', next_chapter['href'])\n",
    "                url = next_chapter_url\n",
    "            else:\n",
    "                url = None\n",
    "\n",
    "def main():\n",
    "    novel_url = 'https://xxxxxx'\n",
    "    output_file = os.path.join(os.path.expanduser('~'), 'Desktop', 'novel.txt')\n",
    "    crawl_novel(novel_url, output_file)\n",
    "    print(f\"The novel has been saved: {output_file}\")\n",
    "\n",
    "if __name__ == \"__main__\":\n",
    "    main()\n"
   ]
  },
  {
   "cell_type": "code",
   "execution_count": null,
   "metadata": {},
   "outputs": [],
   "source": []
  }
 ],
 "metadata": {
  "kernelspec": {
   "display_name": "Python 3",
   "language": "python",
   "name": "python3"
  },
  "language_info": {
   "codemirror_mode": {
    "name": "ipython",
    "version": 3
   },
   "file_extension": ".py",
   "mimetype": "text/x-python",
   "name": "python",
   "nbconvert_exporter": "python",
   "pygments_lexer": "ipython3",
   "version": "3.8.5"
  }
 },
 "nbformat": 4,
 "nbformat_minor": 4
}
